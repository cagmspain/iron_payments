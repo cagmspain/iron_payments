{
 "cells": [
  {
   "cell_type": "code",
   "execution_count": 13,
   "metadata": {},
   "outputs": [],
   "source": [
    "import  pandas as pd\n",
    "import seaborn as sns\n",
    "import matplotlib.pyplot as plt\n",
    "from operator import attrgetter\n",
    "import re"
   ]
  },
  {
   "cell_type": "markdown",
   "metadata": {},
   "source": [
    "## 1. Informacion del negocio , analisis de cada variable"
   ]
  },
  {
   "cell_type": "code",
   "execution_count": 7,
   "metadata": {},
   "outputs": [],
   "source": [
    "#carga de datos , desde directorio origen dataset\n",
    "cash_df = pd.read_csv(\"./project_dataset/extract-cash-request-data-analyst.csv\")\n",
    "fees_df = pd.read_csv(\"./project_dataset/extract-fees-data-analyst.csv\")\n",
    "cash = cash_df.copy()\n",
    "fees = fees_df.copy()"
   ]
  },
  {
   "cell_type": "code",
   "execution_count": 8,
   "metadata": {},
   "outputs": [
    {
     "name": "stdout",
     "output_type": "stream",
     "text": [
      "<class 'pandas.core.frame.DataFrame'>\n",
      "RangeIndex: 23970 entries, 0 to 23969\n",
      "Data columns (total 16 columns):\n",
      " #   Column                      Non-Null Count  Dtype  \n",
      "---  ------                      --------------  -----  \n",
      " 0   id                          23970 non-null  int64  \n",
      " 1   amount                      23970 non-null  float64\n",
      " 2   status                      23970 non-null  object \n",
      " 3   created_at                  23970 non-null  object \n",
      " 4   updated_at                  23970 non-null  object \n",
      " 5   user_id                     21867 non-null  float64\n",
      " 6   moderated_at                16035 non-null  object \n",
      " 7   deleted_account_id          2104 non-null   float64\n",
      " 8   reimbursement_date          23970 non-null  object \n",
      " 9   cash_request_received_date  16289 non-null  object \n",
      " 10  money_back_date             16543 non-null  object \n",
      " 11  transfer_type               23970 non-null  object \n",
      " 12  send_at                     16641 non-null  object \n",
      " 13  recovery_status             3330 non-null   object \n",
      " 14  reco_creation               3330 non-null   object \n",
      " 15  reco_last_update            3330 non-null   object \n",
      "dtypes: float64(3), int64(1), object(12)\n",
      "memory usage: 2.9+ MB\n"
     ]
    },
    {
     "data": {
      "text/html": [
       "<div>\n",
       "<style scoped>\n",
       "    .dataframe tbody tr th:only-of-type {\n",
       "        vertical-align: middle;\n",
       "    }\n",
       "\n",
       "    .dataframe tbody tr th {\n",
       "        vertical-align: top;\n",
       "    }\n",
       "\n",
       "    .dataframe thead th {\n",
       "        text-align: right;\n",
       "    }\n",
       "</style>\n",
       "<table border=\"1\" class=\"dataframe\">\n",
       "  <thead>\n",
       "    <tr style=\"text-align: right;\">\n",
       "      <th></th>\n",
       "      <th>id</th>\n",
       "      <th>amount</th>\n",
       "      <th>status</th>\n",
       "      <th>created_at</th>\n",
       "      <th>updated_at</th>\n",
       "      <th>user_id</th>\n",
       "      <th>moderated_at</th>\n",
       "      <th>deleted_account_id</th>\n",
       "      <th>reimbursement_date</th>\n",
       "      <th>cash_request_received_date</th>\n",
       "      <th>money_back_date</th>\n",
       "      <th>transfer_type</th>\n",
       "      <th>send_at</th>\n",
       "      <th>recovery_status</th>\n",
       "      <th>reco_creation</th>\n",
       "      <th>reco_last_update</th>\n",
       "    </tr>\n",
       "  </thead>\n",
       "  <tbody>\n",
       "    <tr>\n",
       "      <th>0</th>\n",
       "      <td>5</td>\n",
       "      <td>100.0</td>\n",
       "      <td>rejected</td>\n",
       "      <td>2019-12-10 19:05:21.596873+00</td>\n",
       "      <td>2019-12-11 16:47:42.40783+00</td>\n",
       "      <td>804.0</td>\n",
       "      <td>2019-12-11 16:47:42.405646+00</td>\n",
       "      <td>NaN</td>\n",
       "      <td>2020-01-09 19:05:21.596363+00</td>\n",
       "      <td>NaN</td>\n",
       "      <td>NaN</td>\n",
       "      <td>regular</td>\n",
       "      <td>NaN</td>\n",
       "      <td>NaN</td>\n",
       "      <td>NaN</td>\n",
       "      <td>NaN</td>\n",
       "    </tr>\n",
       "    <tr>\n",
       "      <th>1</th>\n",
       "      <td>70</td>\n",
       "      <td>100.0</td>\n",
       "      <td>rejected</td>\n",
       "      <td>2019-12-10 19:50:12.34778+00</td>\n",
       "      <td>2019-12-11 14:24:22.900054+00</td>\n",
       "      <td>231.0</td>\n",
       "      <td>2019-12-11 14:24:22.897988+00</td>\n",
       "      <td>NaN</td>\n",
       "      <td>2020-01-09 19:50:12.34778+00</td>\n",
       "      <td>NaN</td>\n",
       "      <td>NaN</td>\n",
       "      <td>regular</td>\n",
       "      <td>NaN</td>\n",
       "      <td>NaN</td>\n",
       "      <td>NaN</td>\n",
       "      <td>NaN</td>\n",
       "    </tr>\n",
       "    <tr>\n",
       "      <th>2</th>\n",
       "      <td>7</td>\n",
       "      <td>100.0</td>\n",
       "      <td>rejected</td>\n",
       "      <td>2019-12-10 19:13:35.82546+00</td>\n",
       "      <td>2019-12-11 09:46:59.779773+00</td>\n",
       "      <td>191.0</td>\n",
       "      <td>2019-12-11 09:46:59.777728+00</td>\n",
       "      <td>NaN</td>\n",
       "      <td>2020-01-09 19:13:35.825041+00</td>\n",
       "      <td>NaN</td>\n",
       "      <td>NaN</td>\n",
       "      <td>regular</td>\n",
       "      <td>NaN</td>\n",
       "      <td>NaN</td>\n",
       "      <td>NaN</td>\n",
       "      <td>NaN</td>\n",
       "    </tr>\n",
       "    <tr>\n",
       "      <th>3</th>\n",
       "      <td>10</td>\n",
       "      <td>99.0</td>\n",
       "      <td>rejected</td>\n",
       "      <td>2019-12-10 19:16:10.880172+00</td>\n",
       "      <td>2019-12-18 14:26:18.136163+00</td>\n",
       "      <td>761.0</td>\n",
       "      <td>2019-12-18 14:26:18.128407+00</td>\n",
       "      <td>NaN</td>\n",
       "      <td>2020-01-09 19:16:10.879606+00</td>\n",
       "      <td>NaN</td>\n",
       "      <td>NaN</td>\n",
       "      <td>regular</td>\n",
       "      <td>NaN</td>\n",
       "      <td>NaN</td>\n",
       "      <td>NaN</td>\n",
       "      <td>NaN</td>\n",
       "    </tr>\n",
       "    <tr>\n",
       "      <th>4</th>\n",
       "      <td>1594</td>\n",
       "      <td>100.0</td>\n",
       "      <td>rejected</td>\n",
       "      <td>2020-05-06 09:59:38.877376+00</td>\n",
       "      <td>2020-05-07 09:21:55.34008+00</td>\n",
       "      <td>7686.0</td>\n",
       "      <td>2020-05-07 09:21:55.320193+00</td>\n",
       "      <td>NaN</td>\n",
       "      <td>2020-06-05 22:00:00+00</td>\n",
       "      <td>NaN</td>\n",
       "      <td>NaN</td>\n",
       "      <td>regular</td>\n",
       "      <td>NaN</td>\n",
       "      <td>NaN</td>\n",
       "      <td>NaN</td>\n",
       "      <td>NaN</td>\n",
       "    </tr>\n",
       "  </tbody>\n",
       "</table>\n",
       "</div>"
      ],
      "text/plain": [
       "     id  amount    status                     created_at  \\\n",
       "0     5   100.0  rejected  2019-12-10 19:05:21.596873+00   \n",
       "1    70   100.0  rejected   2019-12-10 19:50:12.34778+00   \n",
       "2     7   100.0  rejected   2019-12-10 19:13:35.82546+00   \n",
       "3    10    99.0  rejected  2019-12-10 19:16:10.880172+00   \n",
       "4  1594   100.0  rejected  2020-05-06 09:59:38.877376+00   \n",
       "\n",
       "                      updated_at  user_id                   moderated_at  \\\n",
       "0   2019-12-11 16:47:42.40783+00    804.0  2019-12-11 16:47:42.405646+00   \n",
       "1  2019-12-11 14:24:22.900054+00    231.0  2019-12-11 14:24:22.897988+00   \n",
       "2  2019-12-11 09:46:59.779773+00    191.0  2019-12-11 09:46:59.777728+00   \n",
       "3  2019-12-18 14:26:18.136163+00    761.0  2019-12-18 14:26:18.128407+00   \n",
       "4   2020-05-07 09:21:55.34008+00   7686.0  2020-05-07 09:21:55.320193+00   \n",
       "\n",
       "   deleted_account_id             reimbursement_date  \\\n",
       "0                 NaN  2020-01-09 19:05:21.596363+00   \n",
       "1                 NaN   2020-01-09 19:50:12.34778+00   \n",
       "2                 NaN  2020-01-09 19:13:35.825041+00   \n",
       "3                 NaN  2020-01-09 19:16:10.879606+00   \n",
       "4                 NaN         2020-06-05 22:00:00+00   \n",
       "\n",
       "  cash_request_received_date money_back_date transfer_type send_at  \\\n",
       "0                        NaN             NaN       regular     NaN   \n",
       "1                        NaN             NaN       regular     NaN   \n",
       "2                        NaN             NaN       regular     NaN   \n",
       "3                        NaN             NaN       regular     NaN   \n",
       "4                        NaN             NaN       regular     NaN   \n",
       "\n",
       "  recovery_status reco_creation reco_last_update  \n",
       "0             NaN           NaN              NaN  \n",
       "1             NaN           NaN              NaN  \n",
       "2             NaN           NaN              NaN  \n",
       "3             NaN           NaN              NaN  \n",
       "4             NaN           NaN              NaN  "
      ]
     },
     "execution_count": 8,
     "metadata": {},
     "output_type": "execute_result"
    }
   ],
   "source": [
    "#informacion general de tipos de datos y cantidad de resgistros por columna y identificacion de variables\n",
    "cash.info()\n",
    "cash.head()\n"
   ]
  },
  {
   "cell_type": "code",
   "execution_count": 9,
   "metadata": {},
   "outputs": [
    {
     "data": {
      "text/plain": [
       "recovery_status\n",
       "completed               2468\n",
       "pending                  845\n",
       "pending_direct_debit      16\n",
       "cancelled                  1\n",
       "Name: count, dtype: int64"
      ]
     },
     "execution_count": 9,
     "metadata": {},
     "output_type": "execute_result"
    }
   ],
   "source": [
    "cash.isnull().sum()\n",
    "#cash.describe()\n",
    "#cash[cash[\"transfer_type\"] == \"regular\"][\"status\"].value_counts()\n",
    "#cash[\"transfer_type\"].value_counts()\n",
    "cash[\"recovery_status\"].value_counts()\n"
   ]
  },
  {
   "cell_type": "markdown",
   "metadata": {},
   "source": [
    "## preprocesamiento : Analisis inicial\n",
    "Variables relevantes  CASH\n",
    "\n",
    "como primeros hallazgos encontramos 4 columnas principales, sin valores nulos que son:\n",
    "numeros de registros totales para cash_df = 23970\n",
    "numeros de registros totales para fees_df = 21061\n",
    "\n",
    "cash_df variables : [id , amount ,status , created_at , updated_at , (user_id u deleted_account_id) , transfer type]\n"
   ]
  },
  {
   "cell_type": "code",
   "execution_count": 5,
   "metadata": {},
   "outputs": [
    {
     "name": "stdout",
     "output_type": "stream",
     "text": [
      "<class 'pandas.core.frame.DataFrame'>\n",
      "RangeIndex: 21061 entries, 0 to 21060\n",
      "Data columns (total 13 columns):\n",
      " #   Column           Non-Null Count  Dtype  \n",
      "---  ------           --------------  -----  \n",
      " 0   id               21061 non-null  int64  \n",
      " 1   cash_request_id  21057 non-null  float64\n",
      " 2   type             21061 non-null  object \n",
      " 3   status           21061 non-null  object \n",
      " 4   category         2196 non-null   object \n",
      " 5   total_amount     21061 non-null  float64\n",
      " 6   reason           21061 non-null  object \n",
      " 7   created_at       21061 non-null  object \n",
      " 8   updated_at       21061 non-null  object \n",
      " 9   paid_at          15531 non-null  object \n",
      " 10  from_date        7766 non-null   object \n",
      " 11  to_date          7766 non-null   object \n",
      " 12  charge_moment    21061 non-null  object \n",
      "dtypes: float64(2), int64(1), object(10)\n",
      "memory usage: 2.1+ MB\n"
     ]
    },
    {
     "data": {
      "text/html": [
       "<div>\n",
       "<style scoped>\n",
       "    .dataframe tbody tr th:only-of-type {\n",
       "        vertical-align: middle;\n",
       "    }\n",
       "\n",
       "    .dataframe tbody tr th {\n",
       "        vertical-align: top;\n",
       "    }\n",
       "\n",
       "    .dataframe thead th {\n",
       "        text-align: right;\n",
       "    }\n",
       "</style>\n",
       "<table border=\"1\" class=\"dataframe\">\n",
       "  <thead>\n",
       "    <tr style=\"text-align: right;\">\n",
       "      <th></th>\n",
       "      <th>id</th>\n",
       "      <th>cash_request_id</th>\n",
       "      <th>type</th>\n",
       "      <th>status</th>\n",
       "      <th>category</th>\n",
       "      <th>total_amount</th>\n",
       "      <th>reason</th>\n",
       "      <th>created_at</th>\n",
       "      <th>updated_at</th>\n",
       "      <th>paid_at</th>\n",
       "      <th>from_date</th>\n",
       "      <th>to_date</th>\n",
       "      <th>charge_moment</th>\n",
       "    </tr>\n",
       "  </thead>\n",
       "  <tbody>\n",
       "    <tr>\n",
       "      <th>0</th>\n",
       "      <td>6537</td>\n",
       "      <td>14941.0</td>\n",
       "      <td>instant_payment</td>\n",
       "      <td>rejected</td>\n",
       "      <td>NaN</td>\n",
       "      <td>5.0</td>\n",
       "      <td>Instant Payment Cash Request 14941</td>\n",
       "      <td>2020-09-07 10:47:27.42315+00</td>\n",
       "      <td>2020-10-13 14:25:09.396112+00</td>\n",
       "      <td>2020-12-17 14:50:07.47011+00</td>\n",
       "      <td>NaN</td>\n",
       "      <td>NaN</td>\n",
       "      <td>after</td>\n",
       "    </tr>\n",
       "    <tr>\n",
       "      <th>1</th>\n",
       "      <td>6961</td>\n",
       "      <td>11714.0</td>\n",
       "      <td>incident</td>\n",
       "      <td>accepted</td>\n",
       "      <td>rejected_direct_debit</td>\n",
       "      <td>5.0</td>\n",
       "      <td>rejected direct debit</td>\n",
       "      <td>2020-09-09 20:51:17.998653+00</td>\n",
       "      <td>2020-10-13 14:25:15.537063+00</td>\n",
       "      <td>2020-12-08 17:13:10.45908+00</td>\n",
       "      <td>NaN</td>\n",
       "      <td>NaN</td>\n",
       "      <td>after</td>\n",
       "    </tr>\n",
       "    <tr>\n",
       "      <th>2</th>\n",
       "      <td>16296</td>\n",
       "      <td>23371.0</td>\n",
       "      <td>instant_payment</td>\n",
       "      <td>accepted</td>\n",
       "      <td>NaN</td>\n",
       "      <td>5.0</td>\n",
       "      <td>Instant Payment Cash Request 23371</td>\n",
       "      <td>2020-10-23 10:10:58.352972+00</td>\n",
       "      <td>2020-10-23 10:10:58.352994+00</td>\n",
       "      <td>2020-11-04 19:34:37.43291+00</td>\n",
       "      <td>NaN</td>\n",
       "      <td>NaN</td>\n",
       "      <td>after</td>\n",
       "    </tr>\n",
       "    <tr>\n",
       "      <th>3</th>\n",
       "      <td>20775</td>\n",
       "      <td>26772.0</td>\n",
       "      <td>instant_payment</td>\n",
       "      <td>accepted</td>\n",
       "      <td>NaN</td>\n",
       "      <td>5.0</td>\n",
       "      <td>Instant Payment Cash Request 26772</td>\n",
       "      <td>2020-10-31 15:46:53.643958+00</td>\n",
       "      <td>2020-10-31 15:46:53.643982+00</td>\n",
       "      <td>2020-11-19 05:09:22.500223+00</td>\n",
       "      <td>NaN</td>\n",
       "      <td>NaN</td>\n",
       "      <td>after</td>\n",
       "    </tr>\n",
       "    <tr>\n",
       "      <th>4</th>\n",
       "      <td>11242</td>\n",
       "      <td>19350.0</td>\n",
       "      <td>instant_payment</td>\n",
       "      <td>accepted</td>\n",
       "      <td>NaN</td>\n",
       "      <td>5.0</td>\n",
       "      <td>Instant Payment Cash Request 19350</td>\n",
       "      <td>2020-10-06 08:20:17.170432+00</td>\n",
       "      <td>2020-10-13 14:25:03.267983+00</td>\n",
       "      <td>2020-11-02 14:45:20.355598+00</td>\n",
       "      <td>NaN</td>\n",
       "      <td>NaN</td>\n",
       "      <td>after</td>\n",
       "    </tr>\n",
       "  </tbody>\n",
       "</table>\n",
       "</div>"
      ],
      "text/plain": [
       "      id  cash_request_id             type    status               category  \\\n",
       "0   6537          14941.0  instant_payment  rejected                    NaN   \n",
       "1   6961          11714.0         incident  accepted  rejected_direct_debit   \n",
       "2  16296          23371.0  instant_payment  accepted                    NaN   \n",
       "3  20775          26772.0  instant_payment  accepted                    NaN   \n",
       "4  11242          19350.0  instant_payment  accepted                    NaN   \n",
       "\n",
       "   total_amount                              reason  \\\n",
       "0           5.0  Instant Payment Cash Request 14941   \n",
       "1           5.0               rejected direct debit   \n",
       "2           5.0  Instant Payment Cash Request 23371   \n",
       "3           5.0  Instant Payment Cash Request 26772   \n",
       "4           5.0  Instant Payment Cash Request 19350   \n",
       "\n",
       "                      created_at                     updated_at  \\\n",
       "0   2020-09-07 10:47:27.42315+00  2020-10-13 14:25:09.396112+00   \n",
       "1  2020-09-09 20:51:17.998653+00  2020-10-13 14:25:15.537063+00   \n",
       "2  2020-10-23 10:10:58.352972+00  2020-10-23 10:10:58.352994+00   \n",
       "3  2020-10-31 15:46:53.643958+00  2020-10-31 15:46:53.643982+00   \n",
       "4  2020-10-06 08:20:17.170432+00  2020-10-13 14:25:03.267983+00   \n",
       "\n",
       "                         paid_at from_date to_date charge_moment  \n",
       "0   2020-12-17 14:50:07.47011+00       NaN     NaN         after  \n",
       "1   2020-12-08 17:13:10.45908+00       NaN     NaN         after  \n",
       "2   2020-11-04 19:34:37.43291+00       NaN     NaN         after  \n",
       "3  2020-11-19 05:09:22.500223+00       NaN     NaN         after  \n",
       "4  2020-11-02 14:45:20.355598+00       NaN     NaN         after  "
      ]
     },
     "execution_count": 5,
     "metadata": {},
     "output_type": "execute_result"
    }
   ],
   "source": [
    "fees_df.info()\n",
    "fees_df.head()"
   ]
  },
  {
   "cell_type": "code",
   "execution_count": 10,
   "metadata": {},
   "outputs": [
    {
     "data": {
      "text/plain": [
       "Text(0.5, 1.0, 'fees by type')"
      ]
     },
     "execution_count": 10,
     "metadata": {},
     "output_type": "execute_result"
    },
    {
     "data": {
      "image/png": "[encoded data removed]",
      "text/plain": [
       "<Figure size 640x480 with 1 Axes>"
      ]
     },
     "metadata": {},
     "output_type": "display_data"
    }
   ],
   "source": [
    "fees.isnull().sum()\n",
    "\n",
    "counts = fees[\"type\"].value_counts()\n",
    "plt.figure()\n",
    "plt.pie(counts,labels=counts.index , autopct='%1.1f%%', startangle=180, colors=['#1600ff', '#79c7ff', '#035493'],\n",
    "        textprops={'color': 'Black', 'fontsize': 12})\n",
    "plt.title('fees by type')\n",
    "#fees.describe()\n",
    "# transfer_type :Instant = user choose not received the advance instantly . Regular = user choose to not pay and wait for the transfer"
   ]
  },
  {
   "cell_type": "code",
   "execution_count": 7,
   "metadata": {},
   "outputs": [
    {
     "data": {
      "image/png": "[encoded data removed]",
      "text/plain": [
       "<Figure size 640x480 with 1 Axes>"
      ]
     },
     "metadata": {},
     "output_type": "display_data"
    }
   ],
   "source": [
    "#source: https://python-graph-gallery.com/\n",
    "\n",
    "count_status_fee = fees['status'].value_counts()\n",
    "#conteo de clasfificaciones de status fee\n",
    "\n",
    "count_status_fee = fees['status'].value_counts()\n",
    "explode = [0.1, 0, 0, 0] #prueba con explode para grafico\n",
    "\n",
    "# estructura para añadir o quitar colores para graficos, segun numero de opciones agregar mas colores \n",
    "custom_colors = ['#00ffff', '#a3ffb4', '#a3b8c8','#ff0000'] # https://color-hex.org/\n",
    "\n",
    "#estructura para creacion pyplot con \n",
    "\n",
    "plt.pie(count_status_fee, labels=count_status_fee.index,labeldistance=1.15,wedgeprops = { 'linewidth' : 3, 'edgecolor' : 'white' }, autopct='%1.1f%%', startangle=140, colors=custom_colors, explode=[0.1, 0, 0, 0],\n",
    "        textprops={'color': 'Black', 'fontsize': 12})  # Specify white color and font size\n",
    "#titulo grafico\n",
    "plt.title('distribution fee status')\n",
    "\n",
    "# Easegura que los ejes sean iguales para confirmar circulo \n",
    "plt.axis('equal')\n",
    "\n",
    "\n",
    "plt.show()\n",
    "\n"
   ]
  },
  {
   "cell_type": "code",
   "execution_count": 11,
   "metadata": {},
   "outputs": [
    {
     "data": {
      "text/plain": [
       "reason\n",
       "Instant Payment Cash Request     11099\n",
       "Postpone Cash Request             7766\n",
       "rejected direct debit             1599\n",
       "month delay on payment - /         597\n",
       "Name: count, dtype: int64"
      ]
     },
     "execution_count": 11,
     "metadata": {},
     "output_type": "execute_result"
    }
   ],
   "source": [
    "\n",
    "test = fees[\"reason\"].str.replace(r'\\d+', '', regex=True)  #referecnia para limpieza y adecuacion de clasificaciones de variable, para quedarmos solo  con las categorias y desechar el numero \n",
    "test.value_counts()\n",
    "\n",
    "\n"
   ]
  },
  {
   "cell_type": "markdown",
   "metadata": {},
   "source": [
    "\n",
    "## variable relevantes fees \n",
    "fees_df variables : [id, type , status, updated_at ,crated_at,charge_moment, total_amount]\n",
    "identificando variable created_at y updated_at que son fechas, como referencia para creacion de cohortes."
   ]
  },
  {
   "cell_type": "code",
   "execution_count": 9,
   "metadata": {},
   "outputs": [
    {
     "data": {
      "text/plain": [
       "<Axes: >"
      ]
     },
     "execution_count": 9,
     "metadata": {},
     "output_type": "execute_result"
    },
    {
     "data": {
      "image/png": "[encoded data removed]",
      "text/plain": [
       "<Figure size 640x480 with 1 Axes>"
      ]
     },
     "metadata": {},
     "output_type": "display_data"
    }
   ],
   "source": [
    "#mapa de calor de valores nulos o faltantes\n",
    "\n",
    "sns.heatmap(cash_df.isnull(), cbar=False, cmap='viridis')"
   ]
  },
  {
   "cell_type": "markdown",
   "metadata": {},
   "source": [
    "## Preprocesamiento tipos de datos\n",
    "en nuestro caso de estudios, encontramos variables mayoritariamente fechas en diferentes  formatos , y otras variables cualitativas politomicas nominales. procederemos antes de la limpieza de datos a dar formatos adecuados para el procesamiento."
   ]
  },
  {
   "cell_type": "code",
   "execution_count": 10,
   "metadata": {},
   "outputs": [
    {
     "data": {
      "text/plain": [
       "0        2019-12-10 19:05:21.596873+00\n",
       "1         2019-12-10 19:50:12.34778+00\n",
       "2         2019-12-10 19:13:35.82546+00\n",
       "3        2019-12-10 19:16:10.880172+00\n",
       "4        2020-05-06 09:59:38.877376+00\n",
       "                     ...              \n",
       "23965    2020-10-12 13:54:11.686225+00\n",
       "23966     2020-10-27 14:41:25.73491+00\n",
       "23967    2020-10-20 07:58:04.006937+00\n",
       "23968    2020-10-10 05:40:55.700422+00\n",
       "23969    2020-10-08 14:16:52.155661+00\n",
       "Name: created_at, Length: 23970, dtype: object"
      ]
     },
     "execution_count": 10,
     "metadata": {},
     "output_type": "execute_result"
    }
   ],
   "source": [
    "cash_df[\"created_at\"]"
   ]
  },
  {
   "cell_type": "code",
   "execution_count": 11,
   "metadata": {},
   "outputs": [
    {
     "data": {
      "text/plain": [
       "id                                                    12413\n",
       "amount                                                100.0\n",
       "status                                           money_back\n",
       "created_at                    2020-08-14 00:46:13.010822+00\n",
       "updated_at                    2020-12-18 13:10:09.557056+00\n",
       "user_id                                             11318.0\n",
       "moderated_at                  2020-08-14 08:02:51.869495+00\n",
       "deleted_account_id                                      NaN\n",
       "reimbursement_date                   2020-09-07 22:00:00+00\n",
       "cash_request_received_date                       2020-08-14\n",
       "money_back_date               2020-09-09 19:51:33.705958+00\n",
       "transfer_type                                       instant\n",
       "send_at                       2020-08-21 00:46:12.957617+00\n",
       "recovery_status                                         NaN\n",
       "reco_creation                                           NaN\n",
       "reco_last_update                                        NaN\n",
       "Name: 14400, dtype: object"
      ]
     },
     "execution_count": 11,
     "metadata": {},
     "output_type": "execute_result"
    }
   ],
   "source": [
    "#tomaremos un un indice para entender la configuracion de fechas \n",
    "cash_df.iloc[14400]"
   ]
  },
  {
   "cell_type": "code",
   "execution_count": 12,
   "metadata": {},
   "outputs": [
    {
     "data": {
      "text/plain": [
       "id                                              17930\n",
       "cash_request_id                               24724.0\n",
       "type                                  instant_payment\n",
       "status                                       accepted\n",
       "category                                          NaN\n",
       "total_amount                                      5.0\n",
       "reason             Instant Payment Cash Request 24724\n",
       "created_at              2020-10-26 16:47:44.417815+00\n",
       "updated_at              2020-10-26 16:47:44.417847+00\n",
       "paid_at                 2020-11-09 19:28:05.545693+00\n",
       "from_date                                         NaN\n",
       "to_date                                           NaN\n",
       "charge_moment                                   after\n",
       "Name: 14400, dtype: object"
      ]
     },
     "execution_count": 12,
     "metadata": {},
     "output_type": "execute_result"
    }
   ],
   "source": [
    "fees_df.iloc[14400]"
   ]
  },
  {
   "cell_type": "markdown",
   "metadata": {},
   "source": [
    "encontrmos strings relacionados con fechas, se procede a identificar formatos y adecuarlos a un formato comun conveniente para el analisis.\n",
    "previo a esto crearemos copia de los archivos cargados, para no modificar los originales a los cuales llamaremos , cash y fees [creados en linea 1 de codigo la copia de los datos]."
   ]
  },
  {
   "cell_type": "code",
   "execution_count": 13,
   "metadata": {},
   "outputs": [],
   "source": [
    "fees[[\"created_at\", \"updated_at\", \"paid_at\", \"from_date\", \"to_date\"]] = \\\n",
    "fees[[\"created_at\", \"updated_at\", \"paid_at\", \"from_date\", \"to_date\"]].apply(pd.to_datetime, format=\"ISO8601\")\n",
    "cash[[\"created_at\", \"updated_at\", \"moderated_at\", \"reimbursement_date\", \"cash_request_received_date\",\"money_back_date\", \"send_at\"]] = \\\n",
    "    cash[[\"created_at\", \"updated_at\", \"moderated_at\", \"reimbursement_date\", \"cash_request_received_date\", \"money_back_date\", \"send_at\"]].apply(pd.to_datetime, format=\"ISO8601\")"
   ]
  },
  {
   "cell_type": "markdown",
   "metadata": {},
   "source": [
    "## Definicion y creación de cohorte\n",
    "\n",
    "se define cohorte como numero de usuarios por fecha de primera operacion"
   ]
  },
  {
   "cell_type": "markdown",
   "metadata": {},
   "source": []
  },
  {
   "cell_type": "code",
   "execution_count": 38,
   "metadata": {},
   "outputs": [
    {
     "name": "stderr",
     "output_type": "stream",
     "text": [
      "/var/folders/7c/3smlgk813_l8xy5r_2zy0trr0000gn/T/ipykernel_38454/3111149072.py:4: UserWarning: Converting to PeriodArray/Index representation will drop timezone information.\n",
      "  cash['transaction_month'] = cash['created_at'].dt.to_period('M')\n"
     ]
    }
   ],
   "source": [
    "#cash[\"created_at\"].dt.to_period('M').value_counts() \n",
    "#transformamos la fecha a mes y año para creacion de cohortes\n",
    "# el metodo transform(\"min\") selecciona la fecha minima y retorna una serie con la misma longitud del dataframe\n",
    "cash['transaction_month'] = cash['created_at'].dt.to_period('M')\n",
    "# Calcular el mes de la primera transacción para cada usuario (cohorte)\n",
    "cash['cohort'] = cash.groupby('user_id')['transaction_month'].transform('min')\n",
    "\n"
   ]
  },
  {
   "cell_type": "code",
   "execution_count": 39,
   "metadata": {},
   "outputs": [
    {
     "name": "stdout",
     "output_type": "stream",
     "text": [
      "   user_id transaction_month   cohort  cohort_index\n",
      "0    804.0           2019-12  2019-12             0\n",
      "1    231.0           2019-12  2019-12             0\n",
      "2    191.0           2019-12  2019-12             0\n",
      "3    761.0           2019-12  2019-12             0\n",
      "4   7686.0           2020-05  2020-05             0\n"
     ]
    }
   ],
   "source": [
    "# Calcular el índice de cohorte como la diferencia en meses\n",
    "cash['cohort_index'] = (cash['transaction_month'].dt.year - cash['cohort'].dt.year) * 12 + (cash['transaction_month'].dt.month - cash['cohort'].dt.month)\n",
    "# Verificar los resultados\n",
    "print(cash[['user_id', 'transaction_month', 'cohort', 'cohort_index']].head())\n",
    "\n"
   ]
  },
  {
   "cell_type": "code",
   "execution_count": 18,
   "metadata": {},
   "outputs": [
    {
     "name": "stdout",
     "output_type": "stream",
     "text": [
      "<class 'pandas.core.frame.DataFrame'>\n",
      "RangeIndex: 21061 entries, 0 to 21060\n",
      "Data columns (total 13 columns):\n",
      " #   Column           Non-Null Count  Dtype              \n",
      "---  ------           --------------  -----              \n",
      " 0   id               21061 non-null  int64              \n",
      " 1   cash_request_id  21057 non-null  float64            \n",
      " 2   type             21061 non-null  object             \n",
      " 3   status           21061 non-null  object             \n",
      " 4   category         2196 non-null   object             \n",
      " 5   total_amount     21061 non-null  float64            \n",
      " 6   reason           21061 non-null  object             \n",
      " 7   created_at       21061 non-null  datetime64[ns, UTC]\n",
      " 8   updated_at       21061 non-null  datetime64[ns, UTC]\n",
      " 9   paid_at          15531 non-null  datetime64[ns, UTC]\n",
      " 10  from_date        7766 non-null   datetime64[ns, UTC]\n",
      " 11  to_date          7766 non-null   datetime64[ns, UTC]\n",
      " 12  charge_moment    21061 non-null  object             \n",
      "dtypes: datetime64[ns, UTC](5), float64(2), int64(1), object(5)\n",
      "memory usage: 2.1+ MB\n"
     ]
    },
    {
     "data": {
      "text/plain": [
       "reason\n",
       "rejected direct debit                 1599\n",
       "month delay on payment - 9/2020        283\n",
       "month delay on payment - 8/2020        203\n",
       "month delay on payment - 10/2020       102\n",
       "Postpone Cash Request 12225             34\n",
       "                                      ... \n",
       "Instant Payment Cash Request 21481       1\n",
       "Instant Payment Cash Request 21140       1\n",
       "Instant Payment Cash Request 25010       1\n",
       "Postpone Cash Request 16749              1\n",
       "Instant Payment Cash Request 20982       1\n",
       "Name: count, Length: 15149, dtype: int64"
      ]
     },
     "execution_count": 18,
     "metadata": {},
     "output_type": "execute_result"
    }
   ],
   "source": [
    "fees.info()\n",
    "fees[\"reason\"].value_counts()"
   ]
  },
  {
   "cell_type": "code",
   "execution_count": 12,
   "metadata": {},
   "outputs": [
    {
     "name": "stdout",
     "output_type": "stream",
     "text": [
      "reason\n",
      "rejected direct debit               1599\n",
      "month delay on payment - 9/2020      283\n",
      "month delay on payment - 8/2020      203\n",
      "month delay on payment - 10/2020     102\n",
      "Postpone Cash Request 12225           34\n",
      "Postpone Cash Request 5006            25\n",
      "Postpone Cash Request 4410            23\n",
      "Postpone Cash Request 12452           20\n",
      "Postpone Cash Request 11376           20\n",
      "Postpone Cash Request 2358            18\n",
      "Name: count, dtype: int64\n"
     ]
    }
   ],
   "source": [
    "print(fees['reason'].value_counts().head(10))"
   ]
  },
  {
   "cell_type": "code",
   "execution_count": 14,
   "metadata": {},
   "outputs": [
    {
     "name": "stdout",
     "output_type": "stream",
     "text": [
      "cleaned_reason\n",
      "Instant Payment           11099\n",
      "Postpone                   7766\n",
      "rejected direct debit      1599\n",
      "month delay on payment      597\n",
      "Name: count, dtype: int64\n"
     ]
    }
   ],
   "source": [
    "#  función para limpiar la columna 'reason'\n",
    "def clean_reason(reason):\n",
    "    # Eliminar cualquier número seguido de una cadena (cash request id)\n",
    "    cleaned_reason = re.sub(r'\\sCash\\sRequest\\s\\d+', '', reason)\n",
    "    cleaned_reason = re.sub(r'\\s-\\s\\d{1,2}/\\d{4}', '', cleaned_reason)\n",
    "    return cleaned_reason\n",
    "\n",
    "# Aplicar la función a la columna 'reason'\n",
    "fees['cleaned_reason'] = fees['reason'].apply(clean_reason)\n",
    "\n",
    "# Verificar los resultados\n",
    "print(fees['cleaned_reason'].value_counts().head(10))"
   ]
  }
 ],
 "metadata": {
  "kernelspec": {
   "display_name": "Python 3",
   "language": "python",
   "name": "python3"
  },
  "language_info": {
   "codemirror_mode": {
    "name": "ipython",
    "version": 3
   },
   "file_extension": ".py",
   "mimetype": "text/x-python",
   "name": "python",
   "nbconvert_exporter": "python",
   "pygments_lexer": "ipython3",
   "version": "3.11.7"
  }
 },
 "nbformat": 4,
 "nbformat_minor": 2
}
